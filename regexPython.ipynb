{
 "cells": [
  {
   "cell_type": "markdown",
   "metadata": {},
   "source": [
    "# re - Regular Expression Operation\n",
    "\n",
    "#### 1. The pattern and search string should be of same type (eihter both unicode(utf-8) or both 8-bit strings\n",
    "#### 2. Backslash '\\\\' is used to use special characters without invoking thier special use, eg. if you want to use '\\\\' then you have to write '\\\\\\\\'.\n",
    "#### 3. Also '\\n' is a single newline character but if we write r'\\n' - they are two characters '\\\\' and 'n'. Backslashes are not handled in any special way in a string literal prefixed with 'r'.\n",
    "\n",
    "## MetaCharacters\n",
    "    1. \\   Used to drop the special meaning of character following it\n",
    "    2. []  Represent a character class\n",
    "    3. ^   Matches the beginning\n",
    "    4. $   Matches the end\n",
    "    5. .   Matches any character except newline, \n",
    "           If the DOTALL flag has been specified, this matches any character including a newline.\n",
    "    6. ?   Matches zero or one occurrence.\n",
    "    7. |   Means OR (Matches with any of the characters separated by it).\n",
    "    8. *   Any number of occurrences (including 0 occurrences)\n",
    "    9. +   One ore more occurrences\n",
    "    10. {}  Indicate number of occurrences of a preceding RE to match.\n",
    "    11. ()  Enclose a group of REs\n",
    "    12. \\d   Matches any decimal digit, this is equivalent to the set class [0-9].\n",
    "    13. \\D   Matches any non-digit character.\n",
    "    14. \\s   Matches any whitespace character.\n",
    "    15. \\S   Matches any non-whitespace character\n",
    "    16. \\w   Matches any alphanumeric character, this is equivalent to the class [a-zA-Z0-9_].\n",
    "    17. \\W   Matches any non-alphanumeric character. \n",
    "    18. [\\s,.] will match any whitespace character, ' , ' or ' . '\n",
    "    19. {m} Matches exactly m copies of character. e.g. a{6} matches exact 6 \"a's\"\n",
    "    20. {m, n} Matches m to n characters, if n not defined then inf\n",
    "    21. {m, n}? Matches m i.e. minimum although n are available(non-greedy)\n",
    "    22. Inside set [] special character loses special meaning i.e [(+*)] matches '(', '+', '*', ')'\n",
    "    23. [0-9A-Fa-f] matches any hexadecimal, [a\\-z] matches a, '-' and z also [-a] and [a-] matches '-', 'a'"
   ]
  },
  {
   "cell_type": "code",
   "execution_count": 1,
   "metadata": {},
   "outputs": [],
   "source": [
    "import re"
   ]
  },
  {
   "cell_type": "markdown",
   "metadata": {},
   "source": [
    "#### re.compile(pattern, flags=0)\n",
    "    \n",
    "    Compile a regular expression pattern into a regular expression object-- type-(re.Pattern), which can be used for matching using its match(), search() and other methods"
   ]
  },
  {
   "cell_type": "code",
   "execution_count": 2,
   "metadata": {},
   "outputs": [
    {
     "name": "stdout",
     "output_type": "stream",
     "text": [
      "<class 're.Pattern'>\n"
     ]
    }
   ],
   "source": [
    "pattern = re.compile(r'([a-e])')\n",
    "print(type(pattern))"
   ]
  },
  {
   "cell_type": "code",
   "execution_count": 3,
   "metadata": {},
   "outputs": [
    {
     "data": {
      "text/plain": [
       "['e', 'a', 'a']"
      ]
     },
     "execution_count": 3,
     "metadata": {},
     "output_type": "execute_result"
    }
   ],
   "source": [
    "pattern.findall(\"Hello Arya Stark\")"
   ]
  },
  {
   "cell_type": "code",
   "execution_count": 4,
   "metadata": {},
   "outputs": [],
   "source": [
    "pattern = re.compile(r'\\d*')"
   ]
  },
  {
   "cell_type": "code",
   "execution_count": 5,
   "metadata": {},
   "outputs": [
    {
     "data": {
      "text/plain": [
       "['', '', '', '', '', '', '', '', '1', '', '', '', '', '', '', '', '2019', '']"
      ]
     },
     "execution_count": 5,
     "metadata": {},
     "output_type": "execute_result"
    }
   ],
   "source": [
    "pattern.findall(\"This is 1st May 2019\")"
   ]
  },
  {
   "cell_type": "code",
   "execution_count": 6,
   "metadata": {},
   "outputs": [],
   "source": [
    "pattern = re.compile(r'\\D+')"
   ]
  },
  {
   "cell_type": "code",
   "execution_count": 7,
   "metadata": {},
   "outputs": [
    {
     "data": {
      "text/plain": [
       "['This is ', 'st May ']"
      ]
     },
     "execution_count": 7,
     "metadata": {},
     "output_type": "execute_result"
    }
   ],
   "source": [
    "pattern.findall(\"This is 1st May 2019\")"
   ]
  },
  {
   "cell_type": "code",
   "execution_count": 8,
   "metadata": {},
   "outputs": [],
   "source": [
    "pattern = re.compile(r'\\s')"
   ]
  },
  {
   "cell_type": "code",
   "execution_count": 9,
   "metadata": {},
   "outputs": [
    {
     "data": {
      "text/plain": [
       "[' ', ' ', ' ', ' ']"
      ]
     },
     "execution_count": 9,
     "metadata": {},
     "output_type": "execute_result"
    }
   ],
   "source": [
    "pattern.findall(\"This is 1st May 2019\")"
   ]
  },
  {
   "cell_type": "code",
   "execution_count": 10,
   "metadata": {},
   "outputs": [],
   "source": [
    "pattern = re.compile(r'\\S+')"
   ]
  },
  {
   "cell_type": "code",
   "execution_count": 11,
   "metadata": {},
   "outputs": [
    {
     "data": {
      "text/plain": [
       "['This', 'is', '1st', 'May', '2019']"
      ]
     },
     "execution_count": 11,
     "metadata": {},
     "output_type": "execute_result"
    }
   ],
   "source": [
    "pattern.findall(\"This is 1st May 2019\")"
   ]
  },
  {
   "cell_type": "code",
   "execution_count": 12,
   "metadata": {},
   "outputs": [],
   "source": [
    "pattern = re.compile(r'[\\s,.]')"
   ]
  },
  {
   "cell_type": "code",
   "execution_count": 13,
   "metadata": {},
   "outputs": [
    {
     "data": {
      "text/plain": [
       "[' ', ' ', ' ', ',', ' ', '.']"
      ]
     },
     "execution_count": 13,
     "metadata": {},
     "output_type": "execute_result"
    }
   ],
   "source": [
    "pattern.findall(\"This is 1st May, 2019.\")"
   ]
  },
  {
   "cell_type": "code",
   "execution_count": 14,
   "metadata": {},
   "outputs": [],
   "source": [
    "pattern = re.compile(r'\\w+')"
   ]
  },
  {
   "cell_type": "code",
   "execution_count": 15,
   "metadata": {},
   "outputs": [
    {
     "data": {
      "text/plain": [
       "['This', 'is', '1_st', 'May', '2019']"
      ]
     },
     "execution_count": 15,
     "metadata": {},
     "output_type": "execute_result"
    }
   ],
   "source": [
    "pattern.findall(\"This is 1_st May, * * 2019.\")"
   ]
  },
  {
   "cell_type": "code",
   "execution_count": 16,
   "metadata": {},
   "outputs": [],
   "source": [
    "pattern = re.compile(r'\\W+')"
   ]
  },
  {
   "cell_type": "code",
   "execution_count": 17,
   "metadata": {},
   "outputs": [
    {
     "data": {
      "text/plain": [
       "[' ', ' ', ' ', ', * * ', '.']"
      ]
     },
     "execution_count": 17,
     "metadata": {},
     "output_type": "execute_result"
    }
   ],
   "source": [
    "pattern.findall(\"This is 1_st May, * * 2019.\")"
   ]
  },
  {
   "cell_type": "code",
   "execution_count": 18,
   "metadata": {},
   "outputs": [],
   "source": [
    "pattern = re.compile(r'ab*')"
   ]
  },
  {
   "cell_type": "code",
   "execution_count": 19,
   "metadata": {},
   "outputs": [
    {
     "data": {
      "text/plain": [
       "['ab', 'ab', 'abbbbbbb', 'abbb', 'a', 'a', 'abbbbbbb']"
      ]
     },
     "execution_count": 19,
     "metadata": {},
     "output_type": "execute_result"
    }
   ],
   "source": [
    "pattern.findall(\"abababbbbbbbabbbaaabbbbbbb\")"
   ]
  },
  {
   "cell_type": "code",
   "execution_count": 20,
   "metadata": {},
   "outputs": [
    {
     "name": "stdout",
     "output_type": "stream",
     "text": [
      "['Words', 'words', 'Words']\n",
      "['Word', 's', 'words', 'Words']\n",
      "['On', '12th', 'Jan', '2016', 'at', '11', '02', 'AM']\n",
      "['On ', 'th Jan ', ', at ', ':', ' AM']\n"
     ]
    }
   ],
   "source": [
    "from re import split \n",
    "  \n",
    "# '\\W+' denotes Non-Alphanumeric Characters or group of characters \n",
    "# Upon finding ',' or whitespace ' ', the split(), splits the string from that point \n",
    "print(split('\\W+', 'Words, words , Words')) \n",
    "print(split('\\W+', \"Word's words Words\")) \n",
    "  \n",
    "# Here ':', ' ' ,',' are not AlphaNumeric thus, the point where splitting occurs \n",
    "print(split('\\W+', 'On 12th Jan 2016, at 11:02 AM')) \n",
    "  \n",
    "# '\\d+' denotes Numeric Characters or group of characters \n",
    "# Spliting occurs at '12', '2016', '11', '02' only \n",
    "print(split('\\d+', 'On 12th Jan 2016, at 11:02 AM')) "
   ]
  },
  {
   "cell_type": "code",
   "execution_count": 21,
   "metadata": {},
   "outputs": [],
   "source": [
    "pattern = re.compile(r'\\sAND\\s', flags=re.IGNORECASE)"
   ]
  },
  {
   "cell_type": "code",
   "execution_count": 22,
   "metadata": {},
   "outputs": [],
   "source": [
    "repl = r' & '"
   ]
  },
  {
   "cell_type": "code",
   "execution_count": 23,
   "metadata": {},
   "outputs": [
    {
     "data": {
      "text/plain": [
       "'You have to learn & do things.'"
      ]
     },
     "execution_count": 23,
     "metadata": {},
     "output_type": "execute_result"
    }
   ],
   "source": [
    "re.sub(pattern, repl, \"You have to learn and do things.\")"
   ]
  },
  {
   "cell_type": "code",
   "execution_count": 24,
   "metadata": {},
   "outputs": [
    {
     "data": {
      "text/plain": [
       "(\"You have to learn & do things & don't wait\", 2)"
      ]
     },
     "execution_count": 24,
     "metadata": {},
     "output_type": "execute_result"
    }
   ],
   "source": [
    "re.subn(pattern, repl, \"You have to learn and do things and don't wait\")"
   ]
  },
  {
   "cell_type": "code",
   "execution_count": 25,
   "metadata": {},
   "outputs": [
    {
     "name": "stdout",
     "output_type": "stream",
     "text": [
      "\\[a\\-z\\]\\+\\ is\\ all\\ the\\ lower\\ character\\ from\\ a\\ \\-\\ z\\ with\\ 1\\ or\\ more\\ occurences\n"
     ]
    }
   ],
   "source": [
    "print(re.escape(\"[a-z]+ is all the lower character from a - z with 1 or more occurences\"))"
   ]
  },
  {
   "cell_type": "markdown",
   "metadata": {},
   "source": [
    "#### re.search()  \n",
    "    This method either returns None (if the pattern doesn’t match), or a re.MatchObject that contains information about the matching part of the string. This method stops after the first match, so this is best suited for testing a regular expression more than extracting data."
   ]
  },
  {
   "cell_type": "code",
   "execution_count": 26,
   "metadata": {},
   "outputs": [
    {
     "name": "stdout",
     "output_type": "stream",
     "text": [
      "Match start index at 14, Match end index at 21\n",
      "June 24\n",
      "June\n",
      "24\n"
     ]
    }
   ],
   "source": [
    "regex = r\"([a-zA-Z]+) (\\d+)\"\n",
    "\n",
    "match = re.search(regex, \"I was born on June 24\") \n",
    "\n",
    "if match != None: \n",
    "    print(\"Match start index at %s, Match end index at %s\" % (match.start(), match.end()))\n",
    "    print(match.group(0))\n",
    "    print(match.group(1))\n",
    "    print(match.group(2)) \n",
    "else: \n",
    "    print(\"The regex pattern does not match.\")"
   ]
  },
  {
   "cell_type": "code",
   "execution_count": 27,
   "metadata": {},
   "outputs": [],
   "source": [
    "def findWon(string):\n",
    "    pattern = re.compile(r'(.*)(YOU\\sWON)(\\s?)', flags=re.IGNORECASE)\n",
    "    match = re.match(pattern, string)\n",
    "    return match"
   ]
  },
  {
   "cell_type": "code",
   "execution_count": 28,
   "metadata": {},
   "outputs": [
    {
     "name": "stdout",
     "output_type": "stream",
     "text": [
      "<re.Match object; span=(0, 18), match='Congrats! YOU WON '>\n"
     ]
    }
   ],
   "source": [
    "print(findWon(\"Congrats! YOU WON 10000\"))"
   ]
  }
 ],
 "metadata": {
  "kernelspec": {
   "display_name": "Python 3",
   "language": "python",
   "name": "python3"
  },
  "language_info": {
   "codemirror_mode": {
    "name": "ipython",
    "version": 3
   },
   "file_extension": ".py",
   "mimetype": "text/x-python",
   "name": "python",
   "nbconvert_exporter": "python",
   "pygments_lexer": "ipython3",
   "version": "3.7.0"
  }
 },
 "nbformat": 4,
 "nbformat_minor": 2
}
